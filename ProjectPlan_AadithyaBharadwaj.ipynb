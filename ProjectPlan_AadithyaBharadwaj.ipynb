{
  "nbformat": 4,
  "nbformat_minor": 0,
  "metadata": {
    "colab": {
      "provenance": [],
      "authorship_tag": "ABX9TyNjy80DU37ZnbTN3GR4mO2Y",
      "include_colab_link": true
    },
    "kernelspec": {
      "name": "python3",
      "display_name": "Python 3"
    },
    "language_info": {
      "name": "python"
    }
  },
  "cells": [
    {
      "cell_type": "markdown",
      "metadata": {
        "id": "view-in-github",
        "colab_type": "text"
      },
      "source": [
        "<a href=\"https://colab.research.google.com/github/aad45/MAT421/blob/main/ProjectPlan_AadithyaBharadwaj.ipynb\" target=\"_parent\"><img src=\"https://colab.research.google.com/assets/colab-badge.svg\" alt=\"Open In Colab\"/></a>"
      ]
    },
    {
      "cell_type": "markdown",
      "source": [
        "#MAT421 Spring 2025\n",
        "- Project Plan\n",
        "- Aadithya Bharadwaj\n",
        "- arbhara2@asu.edu"
      ],
      "metadata": {
        "id": "578hVykKD-2Q"
      }
    },
    {
      "cell_type": "markdown",
      "source": [
        "##Part A: Research Objective\n",
        "- Relvance and significance\n",
        "- Modern day machine learning algorithms"
      ],
      "metadata": {
        "id": "fBcu762BEmjU"
      }
    },
    {
      "cell_type": "markdown",
      "source": [
        "Image segmentation is a crucial topic of understanding in our modern day and age of computer vision. It has been integrated with several common use applications in our devices such as background removal in photos, object recognition, as well as use cases in Augmented Reality. With the increasing demand for real-time processing on mobile devices, companies have began to ramp us Image segmentation model's such as the newly announced Meta Segment Anything Model 2 (SAM2), or DeepLabV3+; both optimizing deep learning models for efficiency while also making advancements in accuracy. This project plan demonstrates the aim and need for the project to explore and evaluate pre trained image segmentation models optimized for mobile devices, by analyzing their performance in measures of speed, accuracy, efficiency as well as processing costs and storage costs.\n"
      ],
      "metadata": {
        "id": "s1J9ImvkFqjK"
      }
    },
    {
      "cell_type": "markdown",
      "source": [
        "Additionally, this project integrates key concepts from MAT421, such as interpolation, optimization, as well as numerical differenciation to evaluate model performance. These topics and further topics and trends studied will help us analyze the model in firect terms and compare the interpolation techniques used in segmentation models.\n"
      ],
      "metadata": {
        "id": "dJbq3VKoHD4a"
      }
    },
    {
      "cell_type": "markdown",
      "source": [
        "##Part B: Literature Review\n",
        "- Integration of relevant studies\n",
        "- Where my research contributes\n"
      ],
      "metadata": {
        "id": "zZpSJONsHHQh"
      }
    },
    {
      "cell_type": "markdown",
      "source": [
        "Several image segmentation models have been developed over the years, with many being optimized for mobile deployment. Notable models include:\n",
        "\n",
        "- DeepLabV3+ with MobileNet as the backbone, offering a balance between accuracy and efficiency.\n",
        "\n",
        "- Mobile-optimized U-Net variants, widely used for medical and general segmentation tasks.\n",
        "\n",
        "- SegFormer, a transformer-based lightweight segmentation model.\n",
        "\n",
        "- TensorFlow Lite (TFLite) and ONNX models, specifically optimized for mobile inference.\n",
        "\n"
      ],
      "metadata": {
        "id": "6PxBYdPOI7__"
      }
    },
    {
      "cell_type": "markdown",
      "source": [
        "Existing studies focus on segmentation accuracy and efficiency trade-offs, but fewer have systematically compared pre-trained models in real-world mobile applications. Our work aims to bridge this gap by benchmarking these models on relevant datasets and evaluating their real-time performance on mobile hardware."
      ],
      "metadata": {
        "id": "0TjMJvlKKOch"
      }
    },
    {
      "cell_type": "markdown",
      "source": [
        "Sources:\n",
        "- https://link.springer.com/article/10.1007/s00371-021-02200-8\n",
        "- https://ieeexplore.ieee.org/abstract/document/8785021\n",
        "- https://www.sciencedirect.com/science/article/abs/pii/S0097849319300305\n",
        "- https://arxiv.org/abs/2408.00714\n",
        "\n"
      ],
      "metadata": {
        "id": "dL-2JoHVKSyU"
      }
    },
    {
      "cell_type": "markdown",
      "source": [
        "##Part C: Hypothesis/Research Questions\n",
        "- Research questions presented"
      ],
      "metadata": {
        "id": "enHXXHN-He6t"
      }
    },
    {
      "cell_type": "markdown",
      "source": [
        "This project seeks to answer the following research questions:\n",
        "\n",
        "- Which pre-trained image segmentation models perform best in terms of accuracy and efficiency on mobile devices?\n",
        "\n",
        "- What are the trade-offs between segmentation accuracy and computational cost when deploying these models on mobile hardware?\n",
        "\n",
        "- How do different model optimization techniques (e.g., quantization, pruning) impact segmentation performance and real-time usability?\n",
        "\n",
        "- How do numerical methods from MAT421, such as interpolation and optimization, contribute to improving model performance and efficiency?"
      ],
      "metadata": {
        "id": "Qd0JRl1TKmjo"
      }
    },
    {
      "cell_type": "markdown",
      "source": [
        "##Part D: Methodology\n",
        "- Methods, tools, techniques used throughout the project"
      ],
      "metadata": {
        "id": "z3UYeMnBIMNm"
      }
    },
    {
      "cell_type": "markdown",
      "source": [
        "This project will experiment with pre-trained image segmentation models optimized for mobile deployment. The methodology includes:\n",
        "\n",
        "- Model Selection: Choosing pre-trained segmentation models available in TensorFlow Lite, ONNX, or PyTorch Mobile.\n",
        "\n",
        "- Dataset Selection: Using publicly available datasets such as COCO, ADE20K, or Pascal VOC for evaluation.\n",
        "\n",
        "- Model Benchmarking: Evaluating inference speed, memory usage, and accuracy metrics such as Intersection over Union (IoU) and mean IoU.\n",
        "\n",
        "- Mobile Deployment: Running selected models on a mobile device or an emulator to measure real-world performance.\n",
        "\n",
        "- MAT421 Integration:\n",
        "\n",
        "- - Interpolation (Module B): Analyzing how interpolation methods can improve segmentation boundaries and refine predictions.\n",
        "\n",
        "- - Optimization (Module E): Applying optimization techniques to enhance model efficiency and reduce computational costs.\n",
        "\n",
        "- - Numerical Differentiation (Module F): Using numerical differentiation to assess how small changes in input affect segmentation performance.\n",
        "\n",
        "- Comparison and Analysis: Comparing different models based on efficiency, accuracy, and usability for mobile applications."
      ],
      "metadata": {
        "id": "MKE0Psd-Kxbx"
      }
    },
    {
      "cell_type": "markdown",
      "source": [
        "##Part E: Data Collection\n",
        "- Data to be collected\n",
        "- Datasets used"
      ],
      "metadata": {
        "id": "0dYYtlfGIXx4"
      }
    },
    {
      "cell_type": "markdown",
      "source": [
        "Datasets: COCO, ADE20K, or Pascal VOC for segmentation tasks.\n",
        "\n",
        "Tools & Frameworks:\n",
        "\n",
        "- TensorFlow Lite for deploying lightweight models.\n",
        "\n",
        "- PyTorch Mobile for benchmarking performance.\n",
        "\n",
        "- ONNX Runtime for mobile inference.\n",
        "\n",
        "- Google Colab for testing and analyzing model performance."
      ],
      "metadata": {
        "id": "hWJ5ETvRLcUb"
      }
    },
    {
      "cell_type": "markdown",
      "source": [
        "##Part F: Analysis Plan\n",
        "- Approach for analyzing the data"
      ],
      "metadata": {
        "id": "HjTev8J_IfZ5"
      }
    },
    {
      "cell_type": "markdown",
      "source": [
        "Evaluation Metrics:\n",
        "\n",
        "- Mean IoU for segmentation accuracy.\n",
        "\n",
        "- Inference time (ms) on mobile devices.\n",
        "\n",
        "- Model size and RAM usage for real-world feasibility.\n",
        "\n",
        "MAT421 Integration:\n",
        "\n",
        "- Interpolation Methods (Module B): Evaluating how interpolation techniques affect segmentation quality.\n",
        "\n",
        "- Optimization (Module E): Applying gradient-based optimization to improve inference speed.\n",
        "\n",
        "- Numerical Differentiation (Module F): Measuring how small variations in input affect segmentation accuracy.\n",
        "\n",
        "Devices for Testing: A mid-range smartphone (e.g., Google Pixel, iPhone) or an emulator.\n",
        "\n",
        "Expected Results:\n",
        "\n",
        "- Identification of the best-performing mobile-optimized segmentation model in terms of accuracy and efficiency.\n",
        "\n",
        "- Insights into trade-offs between accuracy and computational cost for mobile deployment.\n",
        "\n",
        "- Recommendations for optimizing segmentation models for real-time mobile applications."
      ],
      "metadata": {
        "id": "t_w-1DjKLpyT"
      }
    },
    {
      "cell_type": "markdown",
      "source": [
        "##Part G: Team roles and responsibilities\n",
        "- Member roles, lead writer"
      ],
      "metadata": {
        "id": "TXpseKzbIvJV"
      }
    },
    {
      "cell_type": "markdown",
      "source": [
        "I will be working on this project alone, and therefore Aadithya Bharadwaj (me) will be the lead writer and contribute his research findings to all the parts."
      ],
      "metadata": {
        "id": "ssuEgb-lMD2l"
      }
    }
  ]
}