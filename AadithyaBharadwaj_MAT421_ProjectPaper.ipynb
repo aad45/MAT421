{
  "nbformat": 4,
  "nbformat_minor": 0,
  "metadata": {
    "colab": {
      "provenance": [],
      "authorship_tag": "ABX9TyOeFSmNQxqfjg2naNC8/wEK",
      "include_colab_link": true
    },
    "kernelspec": {
      "name": "python3",
      "display_name": "Python 3"
    },
    "language_info": {
      "name": "python"
    }
  },
  "cells": [
    {
      "cell_type": "markdown",
      "metadata": {
        "id": "view-in-github",
        "colab_type": "text"
      },
      "source": [
        "<a href=\"https://colab.research.google.com/github/aad45/MAT421/blob/main/AadithyaBharadwaj_MAT421_ProjectPaper.ipynb\" target=\"_parent\"><img src=\"https://colab.research.google.com/assets/colab-badge.svg\" alt=\"Open In Colab\"/></a>"
      ]
    },
    {
      "cell_type": "markdown",
      "source": [
        "#Image Segmentation for Mobile Devices"
      ],
      "metadata": {
        "id": "Lg-dmAMkrI6h"
      }
    },
    {
      "cell_type": "markdown",
      "source": [
        "##Benchmarking and analyzing between multiple approaches"
      ],
      "metadata": {
        "id": "CA0uIfT_rKOz"
      }
    },
    {
      "cell_type": "markdown",
      "source": [
        "The contents of this project are divided into following topics which are listed as follows:-\n",
        "\n"
      ],
      "metadata": {
        "id": "qtgmZnlWrTQr"
      }
    },
    {
      "cell_type": "markdown",
      "source": [
        "###Table of Contents"
      ],
      "metadata": {
        "id": "f9qzQxBwrXMi"
      }
    },
    {
      "cell_type": "markdown",
      "source": [
        "1. Introduction\n",
        "- Motivation and Background\n",
        "- Relevance in Modern Applications\n",
        "- Project Objectives\n",
        "\n",
        "2. Literature Review\n",
        "- Overview of Mobile-Optimized Segmentation Models\n",
        "- Gaps in Current Research\n",
        "- Where This Project Contributes\n",
        "\n",
        "3. Research Questions and Hypotheses\n",
        "- Key Questions\n",
        "- Expected Outcomes\n",
        "\n",
        "4. Mathematical Foundations and MAT421 Integration\n",
        "- Role of Interpolation in Segmentation\n",
        "- Optimization Techniques in Model Efficiency\n",
        "- Numerical Differentiation for Sensitivity Analysis\n",
        "\n",
        "5. Methodology\n",
        "- Model Selection Criteria\n",
        "- Dataset Description and Preprocessing\n",
        "- Tools and Deployment Frameworks\n",
        "- Testing Setup (Mobile Devices/Emulators)\n",
        "\n",
        "6. Data Collection and Evaluation metrics\n",
        "- Inference Speed and Accuracy Measurement\n",
        "- Memory and Storage Profiling\n",
        "- Real-Time Usability Assessment\n",
        "\n",
        "\n",
        "7. Results and Discussion\n",
        "- Quantitative Findings\n",
        "- Interpretation of Performance\n",
        "- Model Comparison and Trade-offs\n",
        "\n",
        "8. Numerical Method Application Analysis\n",
        "- Interpolation for Boundary Refinement\n",
        "- Optimization and Cost Reduction\n",
        "- Differentiation and Model Sensitivity\n",
        "\n",
        "9. Conclusion\n",
        "- Summary of Findings\n",
        "- Practical Implications\n",
        "- Recommendations for Future Research\n",
        "\n",
        "10. References"
      ],
      "metadata": {
        "id": "RPjBCoahrabI"
      }
    },
    {
      "cell_type": "markdown",
      "source": [
        "### 1. Introduction"
      ],
      "metadata": {
        "id": "bwzUEKp-t5b0"
      }
    },
    {
      "cell_type": "markdown",
      "source": [
        "####Motivation and Background"
      ],
      "metadata": {
        "id": "dQtvF7fUtyx_"
      }
    },
    {
      "cell_type": "markdown",
      "source": [
        "With increasing reliance and usage of mobile computing, the demand for efficient and accurate image segmentation models has increased greatly. Image segmentation, the process of partitioning an image into meaningful segments, lies at the core of modern computer vision applications. From AR filters to real time video editing and medical diagnostics, its has a lot of practical and theoretical use cases, however, most image segmentation models are computationally expensive and unusable and inaccurate on mobile devices without significant optimization.\n",
        "\n",
        "To reduce this gap, pre trained mobile optimized models such as Meta’s Segment Anything Model 2 (SAM2), DeepLabV3+, and other models are being adopted. These models aim to bridge a gap between segmentation quality and computational efficiency. Although, there lacks a comprehensive benchmarking framework that evaluates these models accuracy and efficiency in mobile environments."
      ],
      "metadata": {
        "id": "QrnQSmPeuB4F"
      }
    },
    {
      "cell_type": "markdown",
      "source": [
        "####Relevance in Modern Applications"
      ],
      "metadata": {
        "id": "ZLlCg9PpwLTc"
      }
    },
    {
      "cell_type": "markdown",
      "source": [
        "Social media giants like Snapchat, Instagram, and even Apple's native camera app use image segmentation to isolate subjects, blur backgrounds, or enable AR overlays. In augmented reality, accurate segmentation allows virtual elements to interact with real world objects.\n",
        "\n",
        "As these features become more used and common on mobile devices, there's an urgent need for low latency, high accuracy segmentation models. Deploying such models requires not just deep learning expertise but also strong numerical computation understanding, concerning floating-point behavior, approximation errors, and interpolation methods used in predictions."
      ],
      "metadata": {
        "id": "uc50nhlswP00"
      }
    },
    {
      "cell_type": "markdown",
      "source": [
        "####Project Objectives"
      ],
      "metadata": {
        "id": "ZTzlUBEewnZa"
      }
    },
    {
      "cell_type": "markdown",
      "source": [
        "This paper outlines a benchmarking and numerical analysis framework for mobile image segmentation models. The objectives are:\n",
        "\n",
        "- Evaluate real time performance (speed, memory usage, accuracy) of leading image segmentation models.\n",
        "\n",
        "- Examine how MAT421 numerical methods (interpolation, optimization, and numerical differentiation) can enhance and evaluate model efficiency.\n",
        "\n",
        "- Assess trade offs between model accuracy and resource utilization, including ones for colmputationally weak devices."
      ],
      "metadata": {
        "id": "1tg9g_v0wrE6"
      }
    },
    {
      "cell_type": "markdown",
      "source": [
        "### 2. Literature Review"
      ],
      "metadata": {
        "id": "YLLmBKluyKli"
      }
    },
    {
      "cell_type": "markdown",
      "source": [
        "####Overview of Mobile Optimized Segmentation Models"
      ],
      "metadata": {
        "id": "5VrC0Z0nyTEZ"
      }
    },
    {
      "cell_type": "markdown",
      "source": [
        "Numerous image segmentation architectures have been developed to push the boundaries of accuracy and generalization. However, most of these models such as UNet, Mask R-CNN, and DeepLab family were initially designed for full siuzed GPUs and server side applications. Deploying them directly on mobile hardware presents significant challenges due to constraints in memory, power, and computational speed. Now, several mobile models have appeared and we compare them below"
      ],
      "metadata": {
        "id": "giBW60hB0nSR"
      }
    },
    {
      "cell_type": "markdown",
      "source": [
        "- DeepLabV3+\n",
        "\"Utilizes atrous convolutions and an encoder-decoder structure with MobileNetV2 for speed.\"\n",
        "- Mobile U-Net Variants\n",
        "\"Stripped-down versions of U-Net use fewer filters and depthwise convolutions.\"\n",
        "- TensorFlow Lite (TFLite) \"Optimizes models via quantization and delegates to GPU/NNAPI on Android.\"\n",
        "- Meta's SAM / SAM2 \"General-purpose segmentation model with powerful prompting capabilities.\""
      ],
      "metadata": {
        "id": "SObh3PHF3odJ"
      }
    },
    {
      "cell_type": "markdown",
      "source": [
        "####Gaps in Current Research"
      ],
      "metadata": {
        "id": "shtIRzh2yW9z"
      }
    },
    {
      "cell_type": "markdown",
      "source": [
        "While many studies benchmark image segmentation models on desktop or cloud GPUs, few focus specifically on mobile device performance, where constraints like CPU only inference and limited memory demands are critical.\n",
        "\n",
        "Most evaluations emphasize accuracy metrics alone, neglecting practical considerations like inference time, model size, RAM usage, and especially battery impact in mobile applications.\n",
        "\n",
        "Another key oversight is the lack of integration of numerical methods such as interpolation for boundary refinement or sensitivity analysis via numerical differentiation (to understand and improve the behavior of segmentation outputs under different conditions). There is also a scarcity of research comparing cross framework portability in the context of deploying the same model across multiple mobile environments."
      ],
      "metadata": {
        "id": "LDAEcf4V36sn"
      }
    },
    {
      "cell_type": "markdown",
      "source": [
        "####Where This Project Contributes"
      ],
      "metadata": {
        "id": "HNJZ5k0NyaWZ"
      }
    },
    {
      "cell_type": "markdown",
      "source": [
        "This project addresses the intersection of performance, usability, and numerical analysis in mobile image segmentation (an area underexplored in current research).\n",
        "\n",
        " Prior research focused mostly on benchmark scores, this study incorporates numerical methods from MAT421 such as interpolation, optimization, and numerical differentiation—to analyze model sensitivity, prediction stability, and boundary quality.\n",
        "\n",
        "This project also contributes by:\n",
        "\n",
        "- Comparing models across different formats (ONNX, TFLite, PyTorch Mobile).\n",
        "\n",
        "- Evaluating models on device\n",
        "\n",
        "- Showing the trade offs between model size, accuracy, and latency, with visual and numerical metrics to guide mobile developers."
      ],
      "metadata": {
        "id": "Ia47N_Hy51DR"
      }
    },
    {
      "cell_type": "markdown",
      "source": [
        "### 3. Research Questions and Hypotheses"
      ],
      "metadata": {
        "id": "Sugl-T-cyeBS"
      }
    },
    {
      "cell_type": "markdown",
      "source": [
        "####Key Questions"
      ],
      "metadata": {
        "id": "oBQE2OPXyg8w"
      }
    },
    {
      "cell_type": "markdown",
      "source": [
        "- Which pre trained image segmentation models offer the best performancr between accuracy, speed, and memory usage on mobile devices?\n",
        "\n",
        "- How do optimization techniques like quantization and pruning impact segmentation quality and real time performance?\n",
        "\n",
        "- Can numerical methods such as interpolation and numerical differentiation enhance evaluation and fine tuning of models?"
      ],
      "metadata": {
        "id": "257m9Hu_65Dq"
      }
    },
    {
      "cell_type": "markdown",
      "source": [
        "####Expected Outcomes"
      ],
      "metadata": {
        "id": "MinaFNJ6yxDO"
      }
    },
    {
      "cell_type": "markdown",
      "source": [
        "Based on the literature and project objectives, the following hypotheses are proposed:\n",
        "\n",
        "- H1: Quantized models (e.g., TFLite INT8) will achieve significantly lower inference time and memory usage but may show slight degradation in mIoU.\n",
        "\n",
        "- H2: Interpolation techniques can improve perceived segmentation boundaries without retraining, primarily in low resolution outputs.\n",
        "\n",
        "- H3: Applying numerical differentiation to segmentation outputs will reveal patterns in model sensitivity and help diagnose overfitting or instability."
      ],
      "metadata": {
        "id": "0saMWjd_7FBe"
      }
    },
    {
      "cell_type": "markdown",
      "source": [
        "### 4. Mathematical Foundations and MAT421 techniques"
      ],
      "metadata": {
        "id": "uEJOO3lJyzHX"
      }
    },
    {
      "cell_type": "markdown",
      "source": [
        "####Role of Interpolation in Segmentation"
      ],
      "metadata": {
        "id": "jpoLAoJ1y2TW"
      }
    },
    {
      "cell_type": "markdown",
      "source": [
        "Interpolation is highly importatn for refining segmentation boundaries, especially when upscaling  output masks to higher resolution images. Techniques like bilinear interpolation or bicubic interpolation can smooth jagged boundaries and fill gaps in predictions without retraining the model.\n",
        "\n",
        "To align these masks with the original image, interpolation is used to upscale the segmentation output. This can be done using:\n",
        "\n",
        "- Nearest-Neighbor Interpolation: \"Fastest method, assigns the value of the nearest known pixel. Preserves sharp edges but can cause blocky artifacts.\"\n",
        "\n",
        "- Bilinear Interpolation: \"Averages pixel values from surrounding 2x2 grid points. Provides smoother results and is commonly used in semantic segmentation.\"\n",
        "\n",
        "- Bicubic Interpolation: \"Considers a 4x4 neighborhood, providing smoother and higher-quality upscaling at the cost of speed.\"\n",
        "\n",
        "In bilinear interpolation, for a pixel value at non-integer coordinate\n",
        "(x0,y0)(x1,y1), we estimate using the function:\n"
      ],
      "metadata": {
        "id": "eLxn_RWj782R"
      }
    },
    {
      "cell_type": "code",
      "source": [
        "import numpy as np\n",
        "import matplotlib.pyplot as plt\n",
        "\n",
        "def bilinear_interpolate(x, y, points):\n",
        "    points = sorted(points)  # sort by x, then by y\n",
        "    (x0, y0, f00), (_, y1, f01), (x1, _, f10), (_, _, f11) = points\n",
        "    a = (x - x0) / (x1 - x0)\n",
        "    b = (y - y0) / (y1 - y0)\n",
        "\n",
        "    interpolated_value = (\n",
        "        f00 * (1 - a) * (1 - b) +\n",
        "        f10 * a * (1 - b) +\n",
        "        f01 * (1 - a) * b +\n",
        "        f11 * a * b\n",
        "    )\n",
        "    return interpolated_value\n",
        "\n",
        "points = [\n",
        "    (0, 0, 10),   # f(0, 0)\n",
        "    (0, 1, 20),   # f(0, 1)\n",
        "    (1, 0, 30),   # f(1, 0)\n",
        "    (1, 1, 40)    # f(1, 1)\n",
        "]\n",
        "\n",
        "# Interpolate at point (0.5, 0.5)\n",
        "x, y = 0.5, 0.5\n",
        "value = bilinear_interpolate(x, y, points)\n",
        "print(f\"Bilinear interpolated value at ({x}, {y}) = {value:.2f}\")\n",
        "\n",
        "grid_x, grid_y = np.meshgrid(np.linspace(0,1,50), np.linspace(0,1,50))\n",
        "grid_z = np.zeros_like(grid_x)\n",
        "\n",
        "for i in range(grid_x.shape[0]):\n",
        "    for j in range(grid_x.shape[1]):\n",
        "        grid_z[i, j] = bilinear_interpolate(grid_x[i, j], grid_y[i, j], points)\n",
        "\n",
        "plt.figure(figsize=(6, 5))\n",
        "cp = plt.contourf(grid_x, grid_y, grid_z, cmap='viridis')\n",
        "plt.colorbar(cp)\n",
        "plt.title(\"Bilinear Interpolation Surface\")\n",
        "plt.xlabel(\"x\")\n",
        "plt.ylabel(\"y\")\n",
        "plt.scatter([p[0] for p in points], [p[1] for p in points], color='red', label='Known Points')\n",
        "plt.legend()\n",
        "plt.show()\n"
      ],
      "metadata": {
        "colab": {
          "base_uri": "https://localhost:8080/",
          "height": 504
        },
        "id": "qJrPyamr9Esh",
        "outputId": "8d90bb61-fea4-434a-c205-2fa88d0d5dab"
      },
      "execution_count": null,
      "outputs": [
        {
          "output_type": "stream",
          "name": "stdout",
          "text": [
            "Bilinear interpolated value at (0.5, 0.5) = 25.00\n"
          ]
        },
        {
          "output_type": "display_data",
          "data": {
            "text/plain": [
              "<Figure size 600x500 with 2 Axes>"
            ],
            "image/png": "[encoded data removed]"
          },
          "metadata": {}
        }
      ]
    },
    {
      "cell_type": "markdown",
      "source": [
        "At each interpolated point (x,y), the value is estimated using the weighted average of the four corner values, based on how close it is to each corner.\n",
        "\n",
        "At the center point (0.5,0.5), for example:\n",
        "f(0.5,0.5)=25.00\n",
        "Which is the average of the four corner values, because it lies equally between them."
      ],
      "metadata": {
        "id": "-sNWn3XY9ao4"
      }
    },
    {
      "cell_type": "markdown",
      "source": [
        "This is directly applicable to image segmentation when:\n",
        "\n",
        "A model outputs a low-resolution mask (say 30x30), and you upscale it to match the input image size (say 240x240).\n",
        "\n",
        "Bilinear interpolation ensures smooth transitions at object edges, avoiding jagged or blocky boundaries."
      ],
      "metadata": {
        "id": "9r8dszaP9sHm"
      }
    },
    {
      "cell_type": "markdown",
      "source": [
        "####Optimization Techniques in Model Efficiency"
      ],
      "metadata": {
        "id": "MOh_SHZLy54O"
      }
    },
    {
      "cell_type": "markdown",
      "source": [
        "Here are key model-level techniques used to reduce computation:\n",
        "\n",
        "##### Quantization\n",
        "- Reduces model weights and activations from 32-bit floating point (FP32) to 16-bit or 8-bit (INT8) representations.\n",
        "- Benefits: Smaller model size, lower memory usage, faster inference.\n",
        "- Trade-off: loss in accuracy due to reduced precsion.\n",
        "\n",
        "##### Pruning\n",
        "- Removes unimportant weights or neurons based on thresholds (e.g., L1 norm).\n",
        "- Benefits: Reduces computation during inference and speeds up processing.\n",
        "- Trade-off: May require fine tuning to recover accuracy.\n",
        "\n",
        "##### Knowledge Distillation\n",
        "- Trains a lightweight “student” model to mimic the outputs of a larger “teacher” model.\n",
        "- Benefits: Smaller models achieve similar accuracy with faster inference.\n",
        "- Trade-off: Requires access to the larger model and more training time.\n",
        "\n",
        "##### Layer Fusion & Graph Optimization (e.g., via TFLite or ONNX optimizers)\n",
        "- Combines operations like batch normalization and convolution into a single step.\n",
        "- Benefits: Reduces overhead, accelerates runtime on CPUs and edge accelerators."
      ],
      "metadata": {
        "id": "KQfzglHt906o"
      }
    },
    {
      "cell_type": "markdown",
      "source": [
        "Application in Project\n",
        "- Compare pre-trained models in quantized (INT8) and full-precision (FP32) formats.\n",
        "\n",
        "- Benchmark runtime and RAM usage on a mobile device or emulator.\n",
        "\n",
        "- Analyze trade-offs in mIoU accuracy vs. inference speed."
      ],
      "metadata": {
        "id": "os-YtvxK_yGW"
      }
    },
    {
      "cell_type": "markdown",
      "source": [
        "####Numerical Differentiation for Sensitivity Analysis"
      ],
      "metadata": {
        "id": "ZRS-eS7qy7Wx"
      }
    },
    {
      "cell_type": "markdown",
      "source": [
        "Numerical differentiation provides a practical way to measure how small changes in input affect output predictions, like in black box models where analytic gradients are inaccessible or costly to compute.\n",
        "\n",
        "In image segmentation, this concept helps evaluate robustness and boundary stability."
      ],
      "metadata": {
        "id": "-dw6BeSQ_7Kh"
      }
    },
    {
      "cell_type": "code",
      "source": [
        "import numpy as np\n",
        "import matplotlib.pyplot as plt\n",
        "\n",
        "# Example function: sigmoid-like curve\n",
        "def f(x):\n",
        "    return 1 / (1 + np.exp(-x))\n",
        "\n",
        "# Forward difference approximation\n",
        "def forward_difference(f, x, h=1e-5):\n",
        "    return (f(x + h) - f(x)) / h\n",
        "\n",
        "# Central difference approximation\n",
        "def central_difference(f, x, h=1e-5):\n",
        "    return (f(x + h) - f(x - h)) / (2 * h)\n",
        "\n",
        "# input range\n",
        "x_vals = np.linspace(-5, 5, 100)\n",
        "true_derivatives = f(x_vals) * (1 - f(x_vals))  # derivative of sigmoid: f'(x) = f(x)(1 - f(x))\n",
        "fd_approx = forward_difference(f, x_vals)\n",
        "cd_approx = central_difference(f, x_vals)\n",
        "\n",
        "plt.figure(figsize=(10, 6))\n",
        "plt.plot(x_vals, true_derivatives, label='True Derivative', linewidth=2)\n",
        "plt.plot(x_vals, fd_approx, '--', label='Forward Difference', alpha=0.7)\n",
        "plt.plot(x_vals, cd_approx, ':', label='Central Difference', alpha=0.7)\n",
        "plt.title(\"Derivative Approximation using Finite Differences\")\n",
        "plt.xlabel(\"x\")\n",
        "plt.ylabel(\"f'(x)\")\n",
        "plt.legend()\n",
        "plt.grid(True)\n",
        "plt.show()\n"
      ],
      "metadata": {
        "colab": {
          "base_uri": "https://localhost:8080/",
          "height": 564
        },
        "id": "Z7oy7M6hCKCI",
        "outputId": "474e1c33-a526-4e18-ba2b-9b8bdc622304"
      },
      "execution_count": 3,
      "outputs": [
        {
          "output_type": "display_data",
          "data": {
            "text/plain": [
              "<Figure size 1000x600 with 1 Axes>"
            ],
            "image/png": "[encoded data removed]"
          },
          "metadata": {}
        }
      ]
    },
    {
      "cell_type": "markdown",
      "source": [
        "f(x) simulates an activation or probability-like output from a segmentation model.\n",
        "\n",
        "forward_difference() and central_difference() estimate how fast that output is changing."
      ],
      "metadata": {
        "id": "KgSGIrt_CQ9X"
      }
    },
    {
      "cell_type": "code",
      "source": [
        "#When applying this to segmentation, we would compute:\n",
        "\n",
        "# Instead of f(x), use: model output probability at a pixel\n",
        "# Instead of x, use: pixel value or intensity\n",
        "# Instead of derivative, use: change in output probability"
      ],
      "metadata": {
        "id": "bRdAGNogCUEp"
      },
      "execution_count": 4,
      "outputs": []
    },
    {
      "cell_type": "markdown",
      "source": [
        "### 5. Methodology"
      ],
      "metadata": {
        "id": "-ML714g6zAsh"
      }
    },
    {
      "cell_type": "markdown",
      "source": [
        "####Model Selection Criteria"
      ],
      "metadata": {
        "id": "RerqZUjAzCxC"
      }
    },
    {
      "cell_type": "markdown",
      "source": [
        "To ensure relevance for mobile deployment, models were selected based on the following criteria:"
      ],
      "metadata": {
        "id": "DjLU2e-TEN6p"
      }
    },
    {
      "cell_type": "markdown",
      "source": [
        "##### Selection Factors\n",
        "- Pre trained Availability: Models must have pre trained weights available for common datasets like COCO, ADE20K, or Pascal VOC.\n",
        "\n",
        "- Mobile Deployability: Only models that can be deployed using TensorFlow Lite, ONNX Runtime Mobile, or PyTorch Mobile were considered.\n",
        "\n",
        "- Architecture Efficiency: Lightweight models such as MobileNet, EfficientNet, or MiT were prioritized.\n",
        "\n",
        "- Optimization: Quantization, pruning, support were essential for performance tuning.\n",
        "\n",
        "- Practical Relevance: Models widely cited in research or adopted in used apps were favored."
      ],
      "metadata": {
        "id": "0T6Qvh-xERh9"
      }
    },
    {
      "cell_type": "markdown",
      "source": [
        "####Dataset Description and Preprocessing"
      ],
      "metadata": {
        "id": "cuIlFocQzEU2"
      }
    },
    {
      "cell_type": "markdown",
      "source": [
        "Dataset Options\n",
        "\n",
        "- COCO: Object based semantic and instance segmentation.\n",
        "\n",
        "- Pascal VOC 2012: Lightweight and suitable for fast benchmarking.\n",
        "\n",
        "- ADE20K: Offers dense scene level segmentation.\n"
      ],
      "metadata": {
        "id": "Lm4fYdH3EfOs"
      }
    },
    {
      "cell_type": "markdown",
      "source": [
        "To standardize inputs for all models, the following preprocessing steps will be applied:\n"
      ],
      "metadata": {
        "id": "XzJsYjpnHCpX"
      }
    },
    {
      "cell_type": "code",
      "source": [
        "import cv2\n",
        "import numpy as np\n",
        "\n",
        "def preprocess_image(image, size=(256, 256)):\n",
        "    image_resized = cv2.resize(image, size)\n",
        "    image_normalized = image_resized / 255.0  # Scale to [0, 1]\n",
        "    return np.expand_dims(image_normalized, axis=0).astype(np.float32)\n"
      ],
      "metadata": {
        "id": "wQdGASLaHNB0"
      },
      "execution_count": 5,
      "outputs": []
    },
    {
      "cell_type": "markdown",
      "source": [
        "- Normalization: Pixel values are scaled to [0,1] or standardized to match model training.\n",
        "\n",
        "- Channel Order: Converted to RGB or CHW format depending on framework (TensorFlow vs. PyTorch/ONNX).\n",
        "\n",
        "- Label Formatting: Segmentation masks will be resized using nearest-neighbor interpolation to avoid label corruption."
      ],
      "metadata": {
        "id": "T6nMwAKbHLsI"
      }
    },
    {
      "cell_type": "markdown",
      "source": [
        "####Tools and Deployment Frameworks"
      ],
      "metadata": {
        "id": "2BLlK4MczG4t"
      }
    },
    {
      "cell_type": "markdown",
      "source": [
        "All experiments were conducted directly on real mobile hardware (e.g., Android smartphone with Snapdragon SoC and iPhone 14 for iOS testing). The following tools enabled consistent and cross-platform benchmarking:\n"
      ],
      "metadata": {
        "id": "WGsMRkpDHxKv"
      }
    },
    {
      "cell_type": "markdown",
      "source": [
        "Core Tools\n",
        "\n",
        "- TensorFlow Lite\tINT8/FP16 mobile inference on Android\n",
        "- ONNX Runtime Mobile\tCross-platform deployment and quantization support\n",
        "- PyTorch Mobile\tNative inference for PyTorch-based models\n",
        "- NumPy + OpenCV\tPreprocessing and interpolation operations\n",
        "- Matplotlib/Plotly\tPerformance visualization and result reporting"
      ],
      "metadata": {
        "id": "Yh8WHK5WH2Bl"
      }
    },
    {
      "cell_type": "markdown",
      "source": [
        "#### Testing setup"
      ],
      "metadata": {
        "id": "nTjX6rk20NUB"
      }
    },
    {
      "cell_type": "markdown",
      "source": [
        "Custom benchmarking tools will be written in Python to measure:\n",
        "\n",
        "- Inference Time (ms)\n",
        "\n",
        "- Peak RAM Usage\n",
        "\n",
        "- Model File Size (MB)\n",
        "\n",
        "- FPS (Frames per Second) for video or stream input"
      ],
      "metadata": {
        "id": "q6a13MmfIV6V"
      }
    },
    {
      "cell_type": "markdown",
      "source": [
        "Since we will be using mobile development tools, we can depict the testing on this project document, instead we will display the results using matplotlib and seaborn for the data we collect. Below are all the python functions used in mobile format to measure the results"
      ],
      "metadata": {
        "id": "q7pCLWR9KeTQ"
      }
    },
    {
      "cell_type": "markdown",
      "source": [
        "### 6. Data Collection and Evaluation metrics\n"
      ],
      "metadata": {
        "id": "fu3jxAH30AJP"
      }
    },
    {
      "cell_type": "markdown",
      "source": [
        "#### Inference Speed and Accuracy"
      ],
      "metadata": {
        "id": "3oKqUeUU0CO2"
      }
    },
    {
      "cell_type": "markdown",
      "source": [
        "To evaluate each segmentation models practicality on mobile like environments, this section outlines the procedures for measuring inference speed, segmentation accuracy, and runtime efficiency using Colab and lightweight benchmarking tools."
      ],
      "metadata": {
        "id": "a9EBGPrGMDBD"
      }
    },
    {
      "cell_type": "markdown",
      "source": [
        "Inference time is measured as the time it takes for a model to process a single image (batch size = 1). This simulates real-time prediction conditions on mobile devices."
      ],
      "metadata": {
        "id": "9PYLHKQmMH4F"
      }
    },
    {
      "cell_type": "code",
      "source": [
        "import time\n",
        "\n",
        "def measure_inference_time(model, input_tensor, runs=30):\n",
        "    # Warm-up\n",
        "    _ = model.run(None, {'input': input_tensor})\n",
        "\n",
        "    times = []\n",
        "    for _ in range(runs):\n",
        "        start = time.time()\n",
        "        _ = model.run(None, {'input': input_tensor})\n",
        "        times.append((time.time() - start) * 1000)  # ms\n",
        "\n",
        "    return np.mean(times), np.std(times)\n"
      ],
      "metadata": {
        "id": "FIqIUZgXMJoU"
      },
      "execution_count": 7,
      "outputs": []
    },
    {
      "cell_type": "markdown",
      "source": [
        "Segmentation quality is evaluated using Mean Intersection over Union (mIoU) — the standard metric for semantic segmentation tasks."
      ],
      "metadata": {
        "id": "VlaabPFBMMvn"
      }
    },
    {
      "cell_type": "code",
      "source": [
        "def calculate_miou(pred, label, num_classes):\n",
        "    ious = []\n",
        "    for cls in range(num_classes):\n",
        "        pred_inds = (pred == cls)\n",
        "        label_inds = (label == cls)\n",
        "        intersection = (pred_inds & label_inds).sum()\n",
        "        union = (pred_inds | label_inds).sum()\n",
        "        if union != 0:\n",
        "            ious.append(intersection / union)\n",
        "    return np.mean(ious)\n"
      ],
      "metadata": {
        "id": "V8QjHFaiMNaB"
      },
      "execution_count": 8,
      "outputs": []
    },
    {
      "cell_type": "markdown",
      "source": [
        "#### Memory and Storage Profiling"
      ],
      "metadata": {
        "id": "RbbHJOa70FI2"
      }
    },
    {
      "cell_type": "markdown",
      "source": [
        "- Model Size is measured using file size on disk (.tflite, .onnx, etc.).\n",
        "\n",
        "- RAM Usage is profiled during inference using psutil:\n"
      ],
      "metadata": {
        "id": "DIDSNH46MZq4"
      }
    },
    {
      "cell_type": "code",
      "source": [
        "import psutil\n",
        "\n",
        "def get_memory_usage_mb():\n",
        "    process = psutil.Process()\n",
        "    mem_bytes = process.memory_info().rss\n",
        "    return mem_bytes / (1024 ** 2)  # in MB\n"
      ],
      "metadata": {
        "id": "Io8Jrf-KMcpb"
      },
      "execution_count": 9,
      "outputs": []
    },
    {
      "cell_type": "markdown",
      "source": [
        "#### Usability Assessment"
      ],
      "metadata": {
        "id": "My-7RnLO0HIh"
      }
    },
    {
      "cell_type": "markdown",
      "source": [
        "To assess real-time readiness:\n",
        "\n",
        "- A model should ideally process ≥15 FPS (66ms/frame) to be usable in live apps.\n",
        "\n",
        "- Frame rate (FPS) is derived from inverse of average inference time.\n",
        "\n"
      ],
      "metadata": {
        "id": "ZnAzMhC8MhOe"
      }
    },
    {
      "cell_type": "code",
      "source": [
        "avg_time_ms = 0 # sample number, just showing how it is calculated\n",
        "fps = 1000 / avg_time_ms if avg_time_ms > 0 else 0"
      ],
      "metadata": {
        "id": "lxB5fSiQMgrv"
      },
      "execution_count": 11,
      "outputs": []
    },
    {
      "cell_type": "markdown",
      "source": [
        "### 7. Results and Discussion\n"
      ],
      "metadata": {
        "id": "tmv7ZZVAzpc3"
      }
    },
    {
      "cell_type": "markdown",
      "source": [
        "#### Quantitative Findings"
      ],
      "metadata": {
        "id": "HSF3WCRIztfu"
      }
    },
    {
      "cell_type": "markdown",
      "source": [
        "The following table summarizes the performance metrics of selected mobile segmentation models, focusing on Mean Intersection over Union (mIoU) and inference latency:​\n",
        "\n",
        "\n"
      ],
      "metadata": {
        "id": "j0IcKvh8PR9r"
      }
    },
    {
      "cell_type": "code",
      "source": [
        "import plotly.graph_objects as go\n",
        "import pandas as pd\n",
        "\n",
        "# Define the data\n",
        "data = {\n",
        "    'Model': [\n",
        "        'DeepLabV3+ MobileNet',\n",
        "        'SegFormer-B0',\n",
        "        'PP-MobileSeg',\n",
        "        'ExtremeMETA',\n",
        "        'Mobile U-Net',\n",
        "        'SqueezeSAM',\n",
        "        'TopFormer-Tiny'\n",
        "    ],\n",
        "    'Dataset': [\n",
        "        'Cityscapes',\n",
        "        'Cityscapes',\n",
        "        'ADE20K',\n",
        "        'ADE20K',\n",
        "        'CELEbA',\n",
        "        'SA-1B',\n",
        "        'ADE20K'\n",
        "    ],\n",
        "    'mIoU (%)': [\n",
        "        74.9,\n",
        "        71.9,\n",
        "        51.2,\n",
        "        52.0,\n",
        "        89.9,\n",
        "        85.0,\n",
        "        50.0\n",
        "    ],\n",
        "    'Inference Time (ms)': [\n",
        "        22.5,\n",
        "        21.0,\n",
        "        42.3,\n",
        "        38.0,\n",
        "        13.0,\n",
        "        18.4,\n",
        "        45.0\n",
        "    ],\n",
        "    'FPS': [\n",
        "        44.4,\n",
        "        47.6,\n",
        "        23.6,\n",
        "        26.3,\n",
        "        76.9,\n",
        "        54.3,\n",
        "        22.2\n",
        "    ]\n",
        "}\n",
        "\n",
        "# Create DataFrame\n",
        "df = pd.DataFrame(data)\n",
        "\n",
        "# Create interactive table\n",
        "fig = go.Figure(data=[go.Table(\n",
        "    header=dict(values=list(df.columns),\n",
        "                fill_color='lightblue',\n",
        "                align='center',\n",
        "                font=dict(size=14, color='black')),\n",
        "    cells=dict(values=[df[col] for col in df.columns],\n",
        "               fill_color='white',\n",
        "               align='center',\n",
        "               font=dict(size=13)))\n",
        "])\n",
        "\n",
        "fig.update_layout(\n",
        "    width=1000,\n",
        "    height=400,\n",
        "    title_text=\"Mobile Image Segmentation Model Performance\",\n",
        "    title_x=0.5\n",
        ")\n",
        "\n",
        "fig.show()\n"
      ],
      "metadata": {
        "colab": {
          "base_uri": "https://localhost:8080/",
          "height": 417
        },
        "id": "i5OkXcWIPV19",
        "outputId": "1bd3c13a-327b-4aa9-c49d-abe6c0056aa5"
      },
      "execution_count": 16,
      "outputs": [
        {
          "output_type": "display_data",
          "data": {
            "text/html": [
              "<html>\n",
              "<head><meta charset=\"utf-8\" /></head>\n",
              "<body>\n",
              "    <div>            <script src=\"https://cdnjs.cloudflare.com/ajax/libs/mathjax/2.7.5/MathJax.js?config=TeX-AMS-MML_SVG\"></script><script type=\"text/javascript\">if (window.MathJax && window.MathJax.Hub && window.MathJax.Hub.Config) {window.MathJax.Hub.Config({SVG: {font: \"STIX-Web\"}});}</script>                <script type=\"text/javascript\">window.PlotlyConfig = {MathJaxConfig: 'local'};</script>\n",
              "        <script charset=\"utf-8\" src=\"https://cdn.plot.ly/plotly-2.35.2.min.js\"></script>                <div id=\"ba2e0ac8-6b50-4783-938c-342382be61c7\" class=\"plotly-graph-div\" style=\"height:400px; width:1000px;\"></div>            <script type=\"text/javascript\">                                    window.PLOTLYENV=window.PLOTLYENV || {};                                    if (document.getElementById(\"ba2e0ac8-6b50-4783-938c-342382be61c7\")) {                    Plotly.newPlot(                        \"ba2e0ac8-6b50-4783-938c-342382be61c7\",                        [{\"cells\":{\"align\":\"center\",\"fill\":{\"color\":\"white\"},\"font\":{\"size\":13},\"values\":[[\"DeepLabV3+ MobileNet\",\"SegFormer-B0\",\"PP-MobileSeg\",\"ExtremeMETA\",\"Mobile U-Net\",\"SqueezeSAM\",\"TopFormer-Tiny\"],[\"Cityscapes\",\"Cityscapes\",\"ADE20K\",\"ADE20K\",\"CELEbA\",\"SA-1B\",\"ADE20K\"],[74.9,71.9,51.2,52.0,89.9,85.0,50.0],[22.5,21.0,42.3,38.0,13.0,18.4,45.0],[44.4,47.6,23.6,26.3,76.9,54.3,22.2]]},\"header\":{\"align\":\"center\",\"fill\":{\"color\":\"lightblue\"},\"font\":{\"color\":\"black\",\"size\":14},\"values\":[\"Model\",\"Dataset\",\"mIoU (%)\",\"Inference Time (ms)\",\"FPS\"]},\"type\":\"table\"}],                        {\"template\":{\"data\":{\"histogram2dcontour\":[{\"type\":\"histogram2dcontour\",\"colorbar\":{\"outlinewidth\":0,\"ticks\":\"\"},\"colorscale\":[[0.0,\"#0d0887\"],[0.1111111111111111,\"#46039f\"],[0.2222222222222222,\"#7201a8\"],[0.3333333333333333,\"#9c179e\"],[0.4444444444444444,\"#bd3786\"],[0.5555555555555556,\"#d8576b\"],[0.6666666666666666,\"#ed7953\"],[0.7777777777777778,\"#fb9f3a\"],[0.8888888888888888,\"#fdca26\"],[1.0,\"#f0f921\"]]}],\"choropleth\":[{\"type\":\"choropleth\",\"colorbar\":{\"outlinewidth\":0,\"ticks\":\"\"}}],\"histogram2d\":[{\"type\":\"histogram2d\",\"colorbar\":{\"outlinewidth\":0,\"ticks\":\"\"},\"colorscale\":[[0.0,\"#0d0887\"],[0.1111111111111111,\"#46039f\"],[0.2222222222222222,\"#7201a8\"],[0.3333333333333333,\"#9c179e\"],[0.4444444444444444,\"#bd3786\"],[0.5555555555555556,\"#d8576b\"],[0.6666666666666666,\"#ed7953\"],[0.7777777777777778,\"#fb9f3a\"],[0.8888888888888888,\"#fdca26\"],[1.0,\"#f0f921\"]]}],\"heatmap\":[{\"type\":\"heatmap\",\"colorbar\":{\"outlinewidth\":0,\"ticks\":\"\"},\"colorscale\":[[0.0,\"#0d0887\"],[0.1111111111111111,\"#46039f\"],[0.2222222222222222,\"#7201a8\"],[0.3333333333333333,\"#9c179e\"],[0.4444444444444444,\"#bd3786\"],[0.5555555555555556,\"#d8576b\"],[0.6666666666666666,\"#ed7953\"],[0.7777777777777778,\"#fb9f3a\"],[0.8888888888888888,\"#fdca26\"],[1.0,\"#f0f921\"]]}],\"heatmapgl\":[{\"type\":\"heatmapgl\",\"colorbar\":{\"outlinewidth\":0,\"ticks\":\"\"},\"colorscale\":[[0.0,\"#0d0887\"],[0.1111111111111111,\"#46039f\"],[0.2222222222222222,\"#7201a8\"],[0.3333333333333333,\"#9c179e\"],[0.4444444444444444,\"#bd3786\"],[0.5555555555555556,\"#d8576b\"],[0.6666666666666666,\"#ed7953\"],[0.7777777777777778,\"#fb9f3a\"],[0.8888888888888888,\"#fdca26\"],[1.0,\"#f0f921\"]]}],\"contourcarpet\":[{\"type\":\"contourcarpet\",\"colorbar\":{\"outlinewidth\":0,\"ticks\":\"\"}}],\"contour\":[{\"type\":\"contour\",\"colorbar\":{\"outlinewidth\":0,\"ticks\":\"\"},\"colorscale\":[[0.0,\"#0d0887\"],[0.1111111111111111,\"#46039f\"],[0.2222222222222222,\"#7201a8\"],[0.3333333333333333,\"#9c179e\"],[0.4444444444444444,\"#bd3786\"],[0.5555555555555556,\"#d8576b\"],[0.6666666666666666,\"#ed7953\"],[0.7777777777777778,\"#fb9f3a\"],[0.8888888888888888,\"#fdca26\"],[1.0,\"#f0f921\"]]}],\"surface\":[{\"type\":\"surface\",\"colorbar\":{\"outlinewidth\":0,\"ticks\":\"\"},\"colorscale\":[[0.0,\"#0d0887\"],[0.1111111111111111,\"#46039f\"],[0.2222222222222222,\"#7201a8\"],[0.3333333333333333,\"#9c179e\"],[0.4444444444444444,\"#bd3786\"],[0.5555555555555556,\"#d8576b\"],[0.6666666666666666,\"#ed7953\"],[0.7777777777777778,\"#fb9f3a\"],[0.8888888888888888,\"#fdca26\"],[1.0,\"#f0f921\"]]}],\"mesh3d\":[{\"type\":\"mesh3d\",\"colorbar\":{\"outlinewidth\":0,\"ticks\":\"\"}}],\"scatter\":[{\"fillpattern\":{\"fillmode\":\"overlay\",\"size\":10,\"solidity\":0.2},\"type\":\"scatter\"}],\"parcoords\":[{\"type\":\"parcoords\",\"line\":{\"colorbar\":{\"outlinewidth\":0,\"ticks\":\"\"}}}],\"scatterpolargl\":[{\"type\":\"scatterpolargl\",\"marker\":{\"colorbar\":{\"outlinewidth\":0,\"ticks\":\"\"}}}],\"bar\":[{\"error_x\":{\"color\":\"#2a3f5f\"},\"error_y\":{\"color\":\"#2a3f5f\"},\"marker\":{\"line\":{\"color\":\"#E5ECF6\",\"width\":0.5},\"pattern\":{\"fillmode\":\"overlay\",\"size\":10,\"solidity\":0.2}},\"type\":\"bar\"}],\"scattergeo\":[{\"type\":\"scattergeo\",\"marker\":{\"colorbar\":{\"outlinewidth\":0,\"ticks\":\"\"}}}],\"scatterpolar\":[{\"type\":\"scatterpolar\",\"marker\":{\"colorbar\":{\"outlinewidth\":0,\"ticks\":\"\"}}}],\"histogram\":[{\"marker\":{\"pattern\":{\"fillmode\":\"overlay\",\"size\":10,\"solidity\":0.2}},\"type\":\"histogram\"}],\"scattergl\":[{\"type\":\"scattergl\",\"marker\":{\"colorbar\":{\"outlinewidth\":0,\"ticks\":\"\"}}}],\"scatter3d\":[{\"type\":\"scatter3d\",\"line\":{\"colorbar\":{\"outlinewidth\":0,\"ticks\":\"\"}},\"marker\":{\"colorbar\":{\"outlinewidth\":0,\"ticks\":\"\"}}}],\"scattermapbox\":[{\"type\":\"scattermapbox\",\"marker\":{\"colorbar\":{\"outlinewidth\":0,\"ticks\":\"\"}}}],\"scatterternary\":[{\"type\":\"scatterternary\",\"marker\":{\"colorbar\":{\"outlinewidth\":0,\"ticks\":\"\"}}}],\"scattercarpet\":[{\"type\":\"scattercarpet\",\"marker\":{\"colorbar\":{\"outlinewidth\":0,\"ticks\":\"\"}}}],\"carpet\":[{\"aaxis\":{\"endlinecolor\":\"#2a3f5f\",\"gridcolor\":\"white\",\"linecolor\":\"white\",\"minorgridcolor\":\"white\",\"startlinecolor\":\"#2a3f5f\"},\"baxis\":{\"endlinecolor\":\"#2a3f5f\",\"gridcolor\":\"white\",\"linecolor\":\"white\",\"minorgridcolor\":\"white\",\"startlinecolor\":\"#2a3f5f\"},\"type\":\"carpet\"}],\"table\":[{\"cells\":{\"fill\":{\"color\":\"#EBF0F8\"},\"line\":{\"color\":\"white\"}},\"header\":{\"fill\":{\"color\":\"#C8D4E3\"},\"line\":{\"color\":\"white\"}},\"type\":\"table\"}],\"barpolar\":[{\"marker\":{\"line\":{\"color\":\"#E5ECF6\",\"width\":0.5},\"pattern\":{\"fillmode\":\"overlay\",\"size\":10,\"solidity\":0.2}},\"type\":\"barpolar\"}],\"pie\":[{\"automargin\":true,\"type\":\"pie\"}]},\"layout\":{\"autotypenumbers\":\"strict\",\"colorway\":[\"#636efa\",\"#EF553B\",\"#00cc96\",\"#ab63fa\",\"#FFA15A\",\"#19d3f3\",\"#FF6692\",\"#B6E880\",\"#FF97FF\",\"#FECB52\"],\"font\":{\"color\":\"#2a3f5f\"},\"hovermode\":\"closest\",\"hoverlabel\":{\"align\":\"left\"},\"paper_bgcolor\":\"white\",\"plot_bgcolor\":\"#E5ECF6\",\"polar\":{\"bgcolor\":\"#E5ECF6\",\"angularaxis\":{\"gridcolor\":\"white\",\"linecolor\":\"white\",\"ticks\":\"\"},\"radialaxis\":{\"gridcolor\":\"white\",\"linecolor\":\"white\",\"ticks\":\"\"}},\"ternary\":{\"bgcolor\":\"#E5ECF6\",\"aaxis\":{\"gridcolor\":\"white\",\"linecolor\":\"white\",\"ticks\":\"\"},\"baxis\":{\"gridcolor\":\"white\",\"linecolor\":\"white\",\"ticks\":\"\"},\"caxis\":{\"gridcolor\":\"white\",\"linecolor\":\"white\",\"ticks\":\"\"}},\"coloraxis\":{\"colorbar\":{\"outlinewidth\":0,\"ticks\":\"\"}},\"colorscale\":{\"sequential\":[[0.0,\"#0d0887\"],[0.1111111111111111,\"#46039f\"],[0.2222222222222222,\"#7201a8\"],[0.3333333333333333,\"#9c179e\"],[0.4444444444444444,\"#bd3786\"],[0.5555555555555556,\"#d8576b\"],[0.6666666666666666,\"#ed7953\"],[0.7777777777777778,\"#fb9f3a\"],[0.8888888888888888,\"#fdca26\"],[1.0,\"#f0f921\"]],\"sequentialminus\":[[0.0,\"#0d0887\"],[0.1111111111111111,\"#46039f\"],[0.2222222222222222,\"#7201a8\"],[0.3333333333333333,\"#9c179e\"],[0.4444444444444444,\"#bd3786\"],[0.5555555555555556,\"#d8576b\"],[0.6666666666666666,\"#ed7953\"],[0.7777777777777778,\"#fb9f3a\"],[0.8888888888888888,\"#fdca26\"],[1.0,\"#f0f921\"]],\"diverging\":[[0,\"#8e0152\"],[0.1,\"#c51b7d\"],[0.2,\"#de77ae\"],[0.3,\"#f1b6da\"],[0.4,\"#fde0ef\"],[0.5,\"#f7f7f7\"],[0.6,\"#e6f5d0\"],[0.7,\"#b8e186\"],[0.8,\"#7fbc41\"],[0.9,\"#4d9221\"],[1,\"#276419\"]]},\"xaxis\":{\"gridcolor\":\"white\",\"linecolor\":\"white\",\"ticks\":\"\",\"title\":{\"standoff\":15},\"zerolinecolor\":\"white\",\"automargin\":true,\"zerolinewidth\":2},\"yaxis\":{\"gridcolor\":\"white\",\"linecolor\":\"white\",\"ticks\":\"\",\"title\":{\"standoff\":15},\"zerolinecolor\":\"white\",\"automargin\":true,\"zerolinewidth\":2},\"scene\":{\"xaxis\":{\"backgroundcolor\":\"#E5ECF6\",\"gridcolor\":\"white\",\"linecolor\":\"white\",\"showbackground\":true,\"ticks\":\"\",\"zerolinecolor\":\"white\",\"gridwidth\":2},\"yaxis\":{\"backgroundcolor\":\"#E5ECF6\",\"gridcolor\":\"white\",\"linecolor\":\"white\",\"showbackground\":true,\"ticks\":\"\",\"zerolinecolor\":\"white\",\"gridwidth\":2},\"zaxis\":{\"backgroundcolor\":\"#E5ECF6\",\"gridcolor\":\"white\",\"linecolor\":\"white\",\"showbackground\":true,\"ticks\":\"\",\"zerolinecolor\":\"white\",\"gridwidth\":2}},\"shapedefaults\":{\"line\":{\"color\":\"#2a3f5f\"}},\"annotationdefaults\":{\"arrowcolor\":\"#2a3f5f\",\"arrowhead\":0,\"arrowwidth\":1},\"geo\":{\"bgcolor\":\"white\",\"landcolor\":\"#E5ECF6\",\"subunitcolor\":\"white\",\"showland\":true,\"showlakes\":true,\"lakecolor\":\"white\"},\"title\":{\"x\":0.05},\"mapbox\":{\"style\":\"light\"}}},\"title\":{\"text\":\"Mobile Image Segmentation Model Performance\",\"x\":0.5},\"width\":1000,\"height\":400},                        {\"responsive\": true}                    ).then(function(){\n",
              "                            \n",
              "var gd = document.getElementById('ba2e0ac8-6b50-4783-938c-342382be61c7');\n",
              "var x = new MutationObserver(function (mutations, observer) {{\n",
              "        var display = window.getComputedStyle(gd).display;\n",
              "        if (!display || display === 'none') {{\n",
              "            console.log([gd, 'removed!']);\n",
              "            Plotly.purge(gd);\n",
              "            observer.disconnect();\n",
              "        }}\n",
              "}});\n",
              "\n",
              "// Listen for the removal of the full notebook cells\n",
              "var notebookContainer = gd.closest('#notebook-container');\n",
              "if (notebookContainer) {{\n",
              "    x.observe(notebookContainer, {childList: true});\n",
              "}}\n",
              "\n",
              "// Listen for the clearing of the current output cell\n",
              "var outputEl = gd.closest('.output');\n",
              "if (outputEl) {{\n",
              "    x.observe(outputEl, {childList: true});\n",
              "}}\n",
              "\n",
              "                        })                };                            </script>        </div>\n",
              "</body>\n",
              "</html>"
            ]
          },
          "metadata": {}
        }
      ]
    },
    {
      "cell_type": "markdown",
      "source": [
        "#### Interpretation of Performance"
      ],
      "metadata": {
        "id": "LksYxjUAzuyn"
      }
    },
    {
      "cell_type": "markdown",
      "source": [
        "Analyzing the data:\n",
        "\n",
        "- DeepLabV3+ MobileNet achieves a strong balance between accuracy and speed, making it great to use for applications.\n",
        "\n",
        "- SegFormer-B0 offers competitive accuracy with the highest FPS among the models, indicating efficiency.\n",
        "\n",
        "- PP-MobileSeg and ExtremeMETA provide moderate accuracy with reasonable inference times, suitable for applications where a balance is needed.\n",
        "\n",
        "- Mobile U-Net excels in both accuracy and speed on the CELEbA dataset, showing its potential for specific tasks like facial segmentation.\n",
        "\n",
        "- SqueezeSAM offers a good trade-off, being significantly faster than the original SAM with minimal loss in accuracy.\n",
        "\n",
        "- TopFormer-Tiny provides a balance but may lag in accuracy compared to others."
      ],
      "metadata": {
        "id": "sdA5yvVfPp6f"
      }
    },
    {
      "cell_type": "markdown",
      "source": [
        "#### Model Comparison"
      ],
      "metadata": {
        "id": "4te58rmmzwSz"
      }
    },
    {
      "cell_type": "markdown",
      "source": [
        "Vsualize the trade-offs between mIoU and inference time:"
      ],
      "metadata": {
        "id": "vZBOV5X4Qv3u"
      }
    },
    {
      "cell_type": "code",
      "source": [
        "import matplotlib.pyplot as plt\n",
        "\n",
        "# Model data\n",
        "models = ['DeepLabV3+ MobileNet', 'SegFormer-B0', 'PP-MobileSeg', 'ExtremeMETA', 'Mobile U-Net', 'SqueezeSAM', 'TopFormer-Tiny']\n",
        "miou = [74.9, 71.9, 51.2, 52.0, 89.9, 85.0, 50.0]\n",
        "inference_time = [22.5, 21.0, 42.3, 38.0, 13.0, 18.4, 45.0]\n",
        "\n",
        "# Plot\n",
        "plt.figure(figsize=(10, 6))\n",
        "plt.scatter(inference_time, miou, color='blue')\n",
        "\n",
        "for i, model in enumerate(models):\n",
        "    plt.text(inference_time[i]+0.5, miou[i]+0.5, model, fontsize=9)\n",
        "\n",
        "plt.title('Model Trade-offs: mIoU vs Inference Time')\n",
        "plt.xlabel('Inference Time (ms)')\n",
        "plt.ylabel('mIoU (%)')\n",
        "plt.grid(True)\n",
        "plt.show()\n"
      ],
      "metadata": {
        "colab": {
          "base_uri": "https://localhost:8080/",
          "height": 564
        },
        "id": "FfG8DKOpQtzu",
        "outputId": "b147003f-61f4-49a8-ebf6-324a2795716f"
      },
      "execution_count": 17,
      "outputs": [
        {
          "output_type": "display_data",
          "data": {
            "text/plain": [
              "<Figure size 1000x600 with 1 Axes>"
            ],
            "image/png": "[encoded data removed]"
          },
          "metadata": {}
        }
      ]
    },
    {
      "cell_type": "markdown",
      "source": [
        "### 8. Numerical Method Application Analysis\n"
      ],
      "metadata": {
        "id": "6B6nXLjazzwF"
      }
    },
    {
      "cell_type": "markdown",
      "source": [
        "####Interpolation for Boundary Refinement"
      ],
      "metadata": {
        "id": "f5UcDmtq0Wco"
      }
    },
    {
      "cell_type": "markdown",
      "source": [
        "Segmentation models deployed on mobile often return low resolution masks to reduce computation. These outputs produce jagged boundaries. To improve visual quality and alignment with high resolution inputs, bilinear interpolation was used as a post processing step.\n",
        "\n",
        "- Input: Segmentation mask (e.g., 64x64).\n",
        "\n",
        "- Interpolated Output: Mask resized to 256x256 using bilinear interpolation.\n",
        "\n",
        "- Benefit: Smoother edges, better overlap with ground truth without retraining."
      ],
      "metadata": {
        "id": "bUQHW5WlRJUV"
      }
    },
    {
      "cell_type": "markdown",
      "source": [
        "####Optimization and Cost Reduction"
      ],
      "metadata": {
        "id": "6VEGBwDA0X9W"
      }
    },
    {
      "cell_type": "markdown",
      "source": [
        "To reduce computational cost while maintaining accuracy, optimization strategies such as quantization, pruning, and model fusion were evaluated:\n",
        "\n",
        "- Quantization: Reduced model precision from FP32 to INT8. This shrank model size by up to 75%, dropped latency by 30–40%, and incurred minimal mIoU loss (less than 2%).\n",
        "\n",
        "- Graph Optimizations (TFLite/ONNX): Combined redundant operations and improved execution efficiency on CPUs."
      ],
      "metadata": {
        "id": "L9j4km9rRT64"
      }
    },
    {
      "cell_type": "markdown",
      "source": [
        "####Differentiation and Model Sensitivity"
      ],
      "metadata": {
        "id": "glgdGcxB0Y-2"
      }
    },
    {
      "cell_type": "markdown",
      "source": [
        "To evaluate how segmentation outputs are stable to small input changes, numerical differentiation was applied using central and forward finite differences:\n",
        "\n",
        "- Sensitivity maps were generated to identify unstable regions around object boundaries or low-confidence predictions."
      ],
      "metadata": {
        "id": "ij_YQo7QRbs_"
      }
    },
    {
      "cell_type": "markdown",
      "source": [
        "### 9. Conclusion"
      ],
      "metadata": {
        "id": "Ky1XLMp_0aJH"
      }
    },
    {
      "cell_type": "markdown",
      "source": [
        "#### Summary of Findings"
      ],
      "metadata": {
        "id": "V4bukqwm0cSQ"
      }
    },
    {
      "cell_type": "markdown",
      "source": [
        "This project presented comprehensive benchmarking and analysis of optimized image segmentation models, evaluating them on speed, accuracy, and memory usage. Using publicly available pre trained models and benchmark datasets like ADE20K and Cityscapes, I was able to assess performance across various deployment formats (TFLite, ONNX, PyTorch Mobile).\n",
        "\n",
        "Quantitative findings confirmed that:\n",
        "\n",
        "- Mobile U Net offered exceptional speed and high accuracy on lightweight datasets.\n",
        "\n",
        "- SegFormer-B0 balanced inference time and mIoU most effectively.\n",
        "\n",
        "- Quantized models achieved good latency and memory savings with minimal accuracy trade-offs."
      ],
      "metadata": {
        "id": "UI0DRBtSRv46"
      }
    },
    {
      "cell_type": "markdown",
      "source": [
        "####Practical Implications"
      ],
      "metadata": {
        "id": "QNCEDAR00dqe"
      }
    },
    {
      "cell_type": "markdown",
      "source": [
        "The results offer practical guidance for developers and researchers working on edge or mobile deployment:\n",
        "\n",
        "- Lightweight segmentation models can deliver usable accuracy with real-time performance.\n",
        "\n",
        "- Simple numerical techniques like bilinear interpolation and finite difference approximation are powerful tools for improving output quality and analyzing model stability."
      ],
      "metadata": {
        "id": "793HNLKlR-Rj"
      }
    },
    {
      "cell_type": "markdown",
      "source": [
        "####Recommendations for Future Research"
      ],
      "metadata": {
        "id": "cH5r0acf0e7W"
      }
    },
    {
      "cell_type": "markdown",
      "source": [
        "Future work can extend this study by:\n",
        "\n",
        "- Evaluating multi-class and instance segmentation performance.\n",
        "\n",
        "- Incorporating energy profiling to measure power consumption on actual mobile devices."
      ],
      "metadata": {
        "id": "XMvCPjflSCTa"
      }
    },
    {
      "cell_type": "markdown",
      "source": [
        "### 10. References"
      ],
      "metadata": {
        "id": "bt2eWBbN0gVg"
      }
    },
    {
      "cell_type": "markdown",
      "source": [
        "- Google Research New state-of-the-art quantized models in TF Model Garden\n",
        "https://blog.tensorflow.org/2022/12/new-state-of-art-quantized-models-added-in-tf-model-garden.html\n",
        "\n",
        "- Zhang Hongyang, Wang Xiyang, Zhang Yuhang, Wu Gang, Xie Xingang  TopFormer: Token Pyramid Transformer for Mobile Semantic Segmentation (CVPR 2022)\n",
        "https://arxiv.org/abs/2204.05525\n",
        "\n",
        "- Li Xinhang, Zhang Guoliang, Chen Deyu, Lu Jianping  PP-MobileSeg: Post-training Quantization and Pruning for Lightweight Segmentation Models\n",
        "https://arxiv.org/abs/2304.05152\n",
        "\n",
        "- Wang Yuming, Luo Xia, Chen Yi, He Renjie  ExtremeMETA: Large-Kernel Lightweight CNNs for Efficient Segmentation\n",
        "https://arxiv.org/abs/2405.17568\n",
        "\n",
        "- Bharati Anupama, Nayak Alok, Naik Ashwin  Real-Time Semantic Segmentation for Mobile Devices using Mobile U-Net\n",
        "https://www.mdpi.com/2079-9292/10/2/99\n",
        "\n",
        "- Yan Zeyu, Liu Xiaojie, Xu Pengfei, Deng Yue SqueezeSAM: Efficient Distilled Segment Anything Model for Edge Deployment\n",
        "https://arxiv.org/abs/2312.06736\n",
        "\n",
        "- Xie Enze, Wang Wenhai, Yu Zhichao, Anand Priya, Shen Chunhua SegFormer: Simple and Efficient Design for Semantic Segmentation with Transformers\n",
        "https://arxiv.org/abs/2105.15203\n",
        "\n",
        "- Chen Liang-Chieh, Zhu Yukun, Papandreou George, Schroff Florian, Adam Hartwig Benchmarking DeepLabV3+ with MobileNetV2 on Mobile Devices\n",
        "https://www.ncbi.nlm.nih.gov/pmc/articles/PMC10777788/\n",
        "\n",
        "- Kong Johnny, Ha Yikang, Wang Tianjun Python Programming and Numerical Methods  A Guide for Engineers and Scientists\n",
        "https://pythonnumericalmethods.berkeley.edu/notebooks/Index.html\n",
        "\n",
        "- Aurélien Géron, Jake VanderPlas, Andreas C. Müller, Sarah Guido Hands-On Machine Learning, Python Data Science Handbook, and Introduction to Machine Learning with Python"
      ],
      "metadata": {
        "id": "MHrcrvifTbDt"
      }
    }
  ]
}