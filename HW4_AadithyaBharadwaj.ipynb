{
  "nbformat": 4,
  "nbformat_minor": 0,
  "metadata": {
    "colab": {
      "provenance": [],
      "authorship_tag": "ABX9TyMJc4hJMHJoQSaalBRJfIyv",
      "include_colab_link": true
    },
    "kernelspec": {
      "name": "python3",
      "display_name": "Python 3"
    },
    "language_info": {
      "name": "python"
    }
  },
  "cells": [
    {
      "cell_type": "markdown",
      "metadata": {
        "id": "view-in-github",
        "colab_type": "text"
      },
      "source": [
        "<a href=\"https://colab.research.google.com/github/aad45/MAT421/blob/main/HW4_AadithyaBharadwaj.ipynb\" target=\"_parent\"><img src=\"https://colab.research.google.com/assets/colab-badge.svg\" alt=\"Open In Colab\"/></a>"
      ]
    },
    {
      "cell_type": "markdown",
      "source": [
        "#MAT421 Spring 2025\n",
        "- Assignment 3\n",
        "- Aadithya Bharadwaj\n",
        "- arbhara2@asu.edu"
      ],
      "metadata": {
        "id": "GVy1AYqXJVZ3"
      }
    },
    {
      "cell_type": "markdown",
      "source": [
        "##Section 1\n",
        "- Root finding problem statement\n",
        "- example of root of f(x) = cos(x) - x"
      ],
      "metadata": {
        "id": "UF4rYX3BJWMO"
      }
    },
    {
      "cell_type": "code",
      "execution_count": 9,
      "metadata": {
        "id": "aLePobnTJTAY"
      },
      "outputs": [],
      "source": [
        "import numpy as np\n",
        "import matplotlib.pyplot as plt\n",
        "from scipy import optimize\n",
        "\n",
        "def example(x):\n",
        "    return np.cos(x) - x"
      ]
    },
    {
      "cell_type": "code",
      "source": [
        "root_fsolve = optimize.fsolve(example, -2)[0]\n",
        "print(f\"Root found using fsolve: {root_fsolve}\")\n",
        "print(f\"Function value at root: {example(root_fsolve)}\")"
      ],
      "metadata": {
        "colab": {
          "base_uri": "https://localhost:8080/"
        },
        "id": "9cEITtGiKH7c",
        "outputId": "c8af2a65-b15c-4468-ea7e-764fe86f909c"
      },
      "execution_count": 10,
      "outputs": [
        {
          "output_type": "stream",
          "name": "stdout",
          "text": [
            "Root found using fsolve: 0.7390851332151607\n",
            "Function value at root: 0.0\n"
          ]
        }
      ]
    },
    {
      "cell_type": "markdown",
      "source": [
        "##Section 2\n",
        "- Tolerance\n",
        "- if the value at estimated root is within limit, accept"
      ],
      "metadata": {
        "id": "n6SDqWmIKO_9"
      }
    },
    {
      "cell_type": "code",
      "source": [
        "tolerance = 1e-6\n",
        "error_fsolve = abs(example(root_fsolve))\n",
        "print(f\"Error in fsolve result: {error_fsolve}\")"
      ],
      "metadata": {
        "colab": {
          "base_uri": "https://localhost:8080/"
        },
        "id": "Mlcx3dn7KceL",
        "outputId": "1a833665-0c34-4ee3-d3ac-b5d5afe72a3b"
      },
      "execution_count": 11,
      "outputs": [
        {
          "output_type": "stream",
          "name": "stdout",
          "text": [
            "Error in fsolve result: 0.0\n"
          ]
        }
      ]
    },
    {
      "cell_type": "markdown",
      "source": [
        "##Section 3\n",
        "- Bisection method iteratively halves an interval\n",
        "- function example from google research"
      ],
      "metadata": {
        "id": "ZhLn80iWKn2z"
      }
    },
    {
      "cell_type": "code",
      "source": [
        "def bisection_method(f, a, b, tol):\n",
        "    if np.sign(f(a)) == np.sign(f(b)):\n",
        "        raise ValueError(\"Function values at endpoints must have opposite signs.\")\n",
        "    while (b - a) / 2 > tol:\n",
        "        midpoint = (a + b) / 2\n",
        "        if f(midpoint) == 0 or (b - a) / 2 < tol:\n",
        "            return midpoint\n",
        "        elif np.sign(f(a)) == np.sign(f(midpoint)):\n",
        "            a = midpoint\n",
        "        else:\n",
        "            b = midpoint\n",
        "    return (a + b) / 2"
      ],
      "metadata": {
        "id": "wuLu_58aLNGt"
      },
      "execution_count": 12,
      "outputs": []
    },
    {
      "cell_type": "code",
      "source": [
        "root_bisection = bisection_method(lambda x: x**3 - 2*x - 5, 2, 3, tolerance)\n",
        "print(f\"Root found using Bisection: {root_bisection}\")"
      ],
      "metadata": {
        "colab": {
          "base_uri": "https://localhost:8080/"
        },
        "id": "R8MI1kUBLOzD",
        "outputId": "4c41363f-cb29-4613-bdcb-5b1ed3a762ce"
      },
      "execution_count": 13,
      "outputs": [
        {
          "output_type": "stream",
          "name": "stdout",
          "text": [
            "Root found using Bisection: 2.0945520401000977\n"
          ]
        }
      ]
    },
    {
      "cell_type": "markdown",
      "source": [
        "##Section 4\n",
        "- Newton Raphson method\n",
        "- modified from slides and changes to ignore div by 0 err\n"
      ],
      "metadata": {
        "id": "6snXjTH-LTQW"
      }
    },
    {
      "cell_type": "code",
      "source": [
        "def newton_raphson(f, df, x0, tol, max_iter=100):\n",
        "    x = x0\n",
        "    for _ in range(max_iter):\n",
        "        if abs(df(x)) < 1e-8:\n",
        "            raise ValueError(\"too close to zero\")\n",
        "        x_new = x - f(x) / df(x)\n",
        "        if abs(x_new - x) < tol:\n",
        "            return x_new\n",
        "        x = x_new\n",
        "    raise ValueError(\"Newton-Raphson method did not converge.\")"
      ],
      "metadata": {
        "id": "OA25snCpLoXL"
      },
      "execution_count": 14,
      "outputs": []
    },
    {
      "cell_type": "code",
      "source": [
        "f_newton = lambda x: x**3 - 3*x + 1\n",
        "df_newton = lambda x: 3*x**2 - 3\n",
        "newton_root = newton_raphson(f_newton, df_newton, x0=1.5, tol=tolerance)\n",
        "print(f\"rootfound using newton raphson: {newton_root}\")"
      ],
      "metadata": {
        "colab": {
          "base_uri": "https://localhost:8080/"
        },
        "id": "04BJMym3LqS4",
        "outputId": "897392eb-5e82-4b87-ffad-4eb1a9336d49"
      },
      "execution_count": 15,
      "outputs": [
        {
          "output_type": "stream",
          "name": "stdout",
          "text": [
            "rootfound using newton raphson: 1.532088886237956\n"
          ]
        }
      ]
    },
    {
      "cell_type": "markdown",
      "source": [
        "Thank you!"
      ],
      "metadata": {
        "id": "7ZAekbB1L1Zy"
      }
    }
  ]
}