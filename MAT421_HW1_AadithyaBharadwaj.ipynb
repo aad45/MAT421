{
  "nbformat": 4,
  "nbformat_minor": 0,
  "metadata": {
    "colab": {
      "provenance": [],
      "authorship_tag": "ABX9TyMMUoZmXXLNrgqxm+9aEPyu",
      "include_colab_link": true
    },
    "kernelspec": {
      "name": "python3",
      "display_name": "Python 3"
    },
    "language_info": {
      "name": "python"
    }
  },
  "cells": [
    {
      "cell_type": "markdown",
      "metadata": {
        "id": "view-in-github",
        "colab_type": "text"
      },
      "source": [
        "<a href=\"https://colab.research.google.com/github/aad45/MAT421/blob/main/MAT421_HW1_AadithyaBharadwaj.ipynb\" target=\"_parent\"><img src=\"https://colab.research.google.com/assets/colab-badge.svg\" alt=\"Open In Colab\"/></a>"
      ]
    },
    {
      "cell_type": "markdown",
      "source": [
        "# MAT421 Spring 2025\n",
        "- Assignment 1\n",
        "- Aadithya Bharadwaj\n",
        "- arbhara2@asu.edu"
      ],
      "metadata": {
        "id": "BaZLsc5zRIjv"
      }
    },
    {
      "cell_type": "markdown",
      "source": [
        "**Section 1: BaseN and binary**\n",
        "- Convert numbers between base10 and any base\n",
        "- Add two binary numbers\n",
        "- examples of AND, OR, XOR, and NOT."
      ],
      "metadata": {
        "id": "7sVGC1yueFXG"
      }
    },
    {
      "cell_type": "markdown",
      "source": [
        "Convert numbers between base10 and any base"
      ],
      "metadata": {
        "id": "i3pTZ4Axepag"
      }
    },
    {
      "cell_type": "code",
      "source": [
        "def convert_to_base(decimal_number, base):\n",
        "    if decimal_number == 0:\n",
        "        return \"0\"\n",
        "    digits = []\n",
        "    while decimal_number > 0:\n",
        "        digits.append(str(decimal_number % base))\n",
        "        decimal_number //= base\n",
        "    return \"\".join(digits[::-1])\n",
        "\n",
        "def base_conversion_examples():\n",
        "    decimal_number = 128 # change this\n",
        "    base = 2 # change this\n",
        "    converted = convert_to_base(decimal_number, base)\n",
        "    print(f\"decimal {decimal_number} to base{base}: {converted}\")\n",
        "\n",
        "base_conversion_examples()"
      ],
      "metadata": {
        "colab": {
          "base_uri": "https://localhost:8080/"
        },
        "id": "7FZh2SwvRYrf",
        "outputId": "4194397a-d83f-4abe-d675-29d89ab06eb6"
      },
      "execution_count": 19,
      "outputs": [
        {
          "output_type": "stream",
          "name": "stdout",
          "text": [
            "decimal 128 to base2: 10000000\n"
          ]
        }
      ]
    },
    {
      "cell_type": "markdown",
      "source": [
        "Add two binary numbers"
      ],
      "metadata": {
        "id": "nX6kl_sgevAv"
      }
    },
    {
      "cell_type": "code",
      "source": [
        "def add_binary(bin1, bin2):\n",
        "    decimal_sum = int(bin1, 2) + int(bin2, 2)\n",
        "    return bin(decimal_sum)[2:]\n",
        "\n",
        "def binary_arithmetic():\n",
        "    bin1 = \"0010\" # change these vals\n",
        "    bin2 = \"1101\" # change these vals\n",
        "    result = add_binary(bin1, bin2)\n",
        "    print(f\"binary addition: {bin1} + {bin2} = {result}\")\n",
        "\n",
        "binary_arithmetic()"
      ],
      "metadata": {
        "colab": {
          "base_uri": "https://localhost:8080/"
        },
        "id": "EtvxFf3wd9zV",
        "outputId": "e5aaeb3b-c390-473c-c104-475c72d3a30f"
      },
      "execution_count": 18,
      "outputs": [
        {
          "output_type": "stream",
          "name": "stdout",
          "text": [
            "binary addition: 0010 + 1101 = 1111\n"
          ]
        }
      ]
    },
    {
      "cell_type": "markdown",
      "source": [
        "Examples of AND, OR, XOR, and NOT"
      ],
      "metadata": {
        "id": "sH0KRtkOez-x"
      }
    },
    {
      "cell_type": "code",
      "source": [
        "def bitwise_operations():\n",
        "    a = 0b1101\n",
        "    b = 0b1010\n",
        "    #binary ops\n",
        "    print(f\"AND: {bin(a & b)}\")\n",
        "    print(f\"OR: {bin(a | b)}\")\n",
        "    print(f\"XOR: {bin(a ^ b)}\")\n",
        "    print(f\"NOT (~a): {bin(~a)}\")\n",
        "\n",
        "bitwise_operations()"
      ],
      "metadata": {
        "colab": {
          "base_uri": "https://localhost:8080/"
        },
        "id": "oafJWhdQe-AA",
        "outputId": "3dc950ee-ad5d-43ce-fb13-d03565e3569a"
      },
      "execution_count": 17,
      "outputs": [
        {
          "output_type": "stream",
          "name": "stdout",
          "text": [
            "AND: 0b1000\n",
            "OR: 0b1111\n",
            "XOR: 0b111\n",
            "NOT (~a): -0b1110\n"
          ]
        }
      ]
    },
    {
      "cell_type": "markdown",
      "source": [
        "**Section 2: floating point numbers**\n",
        "- IEEE 754 Representation\n",
        "- Precision Loss"
      ],
      "metadata": {
        "id": "yNvahq4tfe5O"
      }
    },
    {
      "cell_type": "markdown",
      "source": [
        "IEEE 754 Representation"
      ],
      "metadata": {
        "id": "gdSuEJtVgoV8"
      }
    },
    {
      "cell_type": "code",
      "source": [
        "import struct\n",
        "\n",
        "def floating_point_representation():\n",
        "\n",
        "    def float_to_binary32(value):\n",
        "        bits = struct.unpack('>I', struct.pack('>f', value))[0]\n",
        "        return f\"{bits:032b}\"\n",
        "\n",
        "    number = 5.75\n",
        "    print(f\"floting point number {number} in IEEE 754: {float_to_binary32(number)}\")\n",
        "\n",
        "floating_point_representation()"
      ],
      "metadata": {
        "colab": {
          "base_uri": "https://localhost:8080/"
        },
        "id": "Vo3XEbCAf6Yc",
        "outputId": "b8ff47d3-d462-43a6-a0e3-6d67ba58b939"
      },
      "execution_count": 16,
      "outputs": [
        {
          "output_type": "stream",
          "name": "stdout",
          "text": [
            "floting point number 5.75 in IEEE 754: 01000000101110000000000000000000\n"
          ]
        }
      ]
    },
    {
      "cell_type": "markdown",
      "source": [
        "Precision Loss"
      ],
      "metadata": {
        "id": "Rzt3n5opgnLj"
      }
    },
    {
      "cell_type": "code",
      "source": [
        "def precision_loss():\n",
        "    result = 0.1 + 0.2\n",
        "    print(f\"Result: {result} (expected 0.3)\")\n",
        "\n",
        "def acc_precision():\n",
        "    number1 = 0.3333333333333333\n",
        "    number2 = 0.6666666666666666\n",
        "    result = number1 + number2\n",
        "    print(f\"result of {number1} + {number2}: {result} (expected 1.0)\")\n",
        "\n",
        "precision_loss()\n",
        "acc_precision()"
      ],
      "metadata": {
        "colab": {
          "base_uri": "https://localhost:8080/"
        },
        "id": "y-yLVfhBgyqI",
        "outputId": "1ba1b932-7d2c-41ee-adef-83623e1f6c1b"
      },
      "execution_count": 15,
      "outputs": [
        {
          "output_type": "stream",
          "name": "stdout",
          "text": [
            "Result: 0.30000000000000004 (expected 0.3)\n",
            "result of 0.3333333333333333 + 0.6666666666666666: 1.0 (expected 1.0)\n"
          ]
        }
      ]
    },
    {
      "cell_type": "markdown",
      "source": [
        "**Section 3: round off errors**\n",
        "- round off error in sum\n",
        "- 'decimal' to mitigate"
      ],
      "metadata": {
        "id": "RkwVMVjchAYA"
      }
    },
    {
      "cell_type": "markdown",
      "source": [
        "Round Off errors in Sum"
      ],
      "metadata": {
        "id": "1vm1n9bphOhb"
      }
    },
    {
      "cell_type": "code",
      "source": [
        "def round_off_errors():\n",
        "    import numpy as np\n",
        "\n",
        "    large_list = np.ones(10000) * 0.1\n",
        "    sum_result = np.sum(large_list)\n",
        "    print(f\"Sum: {sum_result} (expected 1000.0)\")\n",
        "\n",
        "round_off_errors()"
      ],
      "metadata": {
        "colab": {
          "base_uri": "https://localhost:8080/"
        },
        "id": "WscCs1RrhMJc",
        "outputId": "142d2fd5-5441-4bb3-9ac6-35d77d77e2c4"
      },
      "execution_count": 14,
      "outputs": [
        {
          "output_type": "stream",
          "name": "stdout",
          "text": [
            "Sum: 1000.0000000000002 (expected 1000.0)\n"
          ]
        }
      ]
    },
    {
      "cell_type": "markdown",
      "source": [
        "Decimal to mitigate"
      ],
      "metadata": {
        "id": "qiYqBfjthrlv"
      }
    },
    {
      "cell_type": "code",
      "source": [
        "from decimal import Decimal\n",
        "\n",
        "def dec_mitigate():\n",
        "    a, b = Decimal('0.1'), Decimal('0.2')\n",
        "    result = a + b\n",
        "    print(f\"using decimal for 0.1 + 0.2: {result} (expected 0.3)\")\n",
        "\n",
        "dec_mitigate()"
      ],
      "metadata": {
        "colab": {
          "base_uri": "https://localhost:8080/"
        },
        "id": "o2OSj6G8hzj5",
        "outputId": "7c47cdcd-6e70-4d7a-ffa0-4106ce5a5ae5"
      },
      "execution_count": 13,
      "outputs": [
        {
          "output_type": "stream",
          "name": "stdout",
          "text": [
            "using decimal for 0.1 + 0.2: 0.3 (expected 0.3)\n"
          ]
        }
      ]
    },
    {
      "cell_type": "markdown",
      "source": [
        "Thank you!"
      ],
      "metadata": {
        "id": "EMJ6jv3CiH8j"
      }
    }
  ]
}